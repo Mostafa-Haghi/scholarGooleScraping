{
 "cells": [
  {
   "cell_type": "code",
   "execution_count": 41,
   "id": "4355c6a3",
   "metadata": {},
   "outputs": [
    {
     "name": "stdout",
     "output_type": "stream",
     "text": [
      "\n",
      "                  A large proportion of the international trade in the world's finest emeralds is controlled by a community descended from Central Asian crypto-Jews. They were brought to the Islamic holy city of Mashad, in northeastern Iran, to serve as treasurers for the Khorosan Empire. In 1839 they were forced to convert en masse to Islam. They retained a Jewish identity in secret. They came to specialize in the international trade in high-value merchandise. A centuries-long history of discrimination impelled the members of this community to emigrate to Israel. From there, they went to Queens, New York. Members of this community began traveling to Colombia to purchase precious emeralds. Their experience in international, semi-licit trade, their access to credit through family connections, allowed them to prosper in the Colombian emerald trade. Members of this community still travel back and forth between Bogotá and New York's diamond district moving the world's finest emeralds. The geology and gemology of emeralds makes them unlike any other mineral commodity. The descendents of the central Asian crypto-Jews took advantage of a difficult historical conjuncture and came to dominate the international trade in this precious stone.\n",
      "               \n"
     ]
    }
   ],
   "source": [
    "from bs4 import BeautifulSoup\n",
    "import requests\n",
    "import pandas\n",
    "import re\n",
    "\n",
    "\n",
    "tags = requests.get('https://api.elsevier.com/content/article/pii/S2214790X18303411?APIKey=776ca8dde2af1ea9947c24b6500168de').text\n",
    "soup = BeautifulSoup(tags, 'html') \n",
    "abstract=soup.select_one('coredata >openaccess')\n",
    "print(abstract.find_previous().text)"
   ]
  },
  {
   "cell_type": "code",
   "execution_count": null,
   "id": "5c0055bb",
   "metadata": {},
   "outputs": [],
   "source": []
  },
  {
   "cell_type": "code",
   "execution_count": null,
   "id": "3b7eff22",
   "metadata": {},
   "outputs": [],
   "source": []
  }
 ],
 "metadata": {
  "kernelspec": {
   "display_name": "Python 3",
   "language": "python",
   "name": "python3"
  },
  "language_info": {
   "codemirror_mode": {
    "name": "ipython",
    "version": 3
   },
   "file_extension": ".py",
   "mimetype": "text/x-python",
   "name": "python",
   "nbconvert_exporter": "python",
   "pygments_lexer": "ipython3",
   "version": "3.8.8"
  }
 },
 "nbformat": 4,
 "nbformat_minor": 5
}
