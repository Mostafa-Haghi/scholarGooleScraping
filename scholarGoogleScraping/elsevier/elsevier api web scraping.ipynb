{
 "cells": [
  {
   "cell_type": "code",
   "execution_count": 9,
   "id": "30dd674d",
   "metadata": {},
   "outputs": [
    {
     "name": "stdout",
     "output_type": "stream",
     "text": [
      "https://www.sciencedirect.com/science/article/pii/S0959652622010629\n",
      "https://api.elsevier.com/content/article/pii/S0959652622010629?APIKey=776ca8dde2af1ea9947c24b6500168de\n",
      "https://www.sciencedirect.com/science/article/pii/S1389128621003303\n",
      "https://api.elsevier.com/content/article/pii/S1389128621003303?APIKey=776ca8dde2af1ea9947c24b6500168de\n",
      "https://www.sciencedirect.com/science/article/pii/S0360319921046498\n",
      "https://api.elsevier.com/content/article/pii/S0360319921046498?APIKey=776ca8dde2af1ea9947c24b6500168de\n",
      "https://www.sciencedirect.com/science/article/pii/S0921344921005103\n",
      "https://api.elsevier.com/content/article/pii/S0921344921005103?APIKey=776ca8dde2af1ea9947c24b6500168de\n",
      "https://www.sciencedirect.com/science/article/pii/S0166361520305583\n",
      "https://api.elsevier.com/content/article/pii/S0166361520305583?APIKey=776ca8dde2af1ea9947c24b6500168de\n",
      "https://www.sciencedirect.com/science/article/pii/S0313592620304057\n",
      "https://api.elsevier.com/content/article/pii/S0313592620304057?APIKey=776ca8dde2af1ea9947c24b6500168de\n",
      "https://www.sciencedirect.com/science/article/pii/S1574013720300241\n",
      "https://api.elsevier.com/content/article/pii/S1574013720300241?APIKey=776ca8dde2af1ea9947c24b6500168de\n",
      "https://www.sciencedirect.com/science/article/pii/S0268401221000815\n",
      "https://api.elsevier.com/content/article/pii/S0268401221000815?APIKey=776ca8dde2af1ea9947c24b6500168de\n",
      "https://www.sciencedirect.com/science/article/pii/S2214790X18303411\n",
      "https://api.elsevier.com/content/article/pii/S2214790X18303411?APIKey=776ca8dde2af1ea9947c24b6500168de\n"
     ]
    }
   ],
   "source": [
    "from bs4 import BeautifulSoup\n",
    "import requests\n",
    "import pandas\n",
    "titlesArray=[]\n",
    "keywordsArray=[]\n",
    "affilisArray=[]\n",
    "abstractsArray=[]\n",
    "publicationsArray=[]\n",
    "linksArray=[]\n",
    "\n",
    "tags = requests.get('https://scholar.google.com/scholar?start=10&q=+blockchain+iran+elsevier+&hl=en&as_sdt=0,5&as_ylo=2018').text\n",
    "soup = BeautifulSoup(tags, 'html') \n",
    "\n",
    "\n",
    "                            \n",
    "linksOfTitles=soup.select('#gs_res_ccl_mid > div > div.gs_ri > h3>a')\n",
    "for link in linksOfTitles:\n",
    "  linksArray.append(link['href'])\n",
    "        \n",
    "data={ 'links':linksArray}\n",
    "d= pandas.DataFrame(data)\n",
    "d[d.links.str.contains('sciencedirect.com')]\n",
    "# print(d[d.links.str.contains('link.springer.com')])\n",
    "\n",
    "for ind in d[d.links.str.contains('sciencedirect.com/')].index:\n",
    "    link2=d[d.links.str.contains('sciencedirect.com')]['links'][ind]\n",
    "    print(link2)\n",
    "    pii=link2.split('/')[-1]\n",
    "    print('https://api.elsevier.com/content/article/pii/'+str(pii)+'?APIKey=776ca8dde2af1ea9947c24b6500168de')\n",
    "    \n",
    "    "
   ]
  },
  {
   "cell_type": "code",
   "execution_count": null,
   "id": "41b8ce0d",
   "metadata": {},
   "outputs": [],
   "source": []
  }
 ],
 "metadata": {
  "kernelspec": {
   "display_name": "Python 3",
   "language": "python",
   "name": "python3"
  },
  "language_info": {
   "codemirror_mode": {
    "name": "ipython",
    "version": 3
   },
   "file_extension": ".py",
   "mimetype": "text/x-python",
   "name": "python",
   "nbconvert_exporter": "python",
   "pygments_lexer": "ipython3",
   "version": "3.8.8"
  }
 },
 "nbformat": 4,
 "nbformat_minor": 5
}
