{
 "cells": [
  {
   "cell_type": "code",
   "execution_count": 5,
   "id": "7caabff7",
   "metadata": {},
   "outputs": [
    {
     "name": "stdout",
     "output_type": "stream",
     "text": [
      "https://link.springer.com/chapter/10.1007/978-3-030-88152-8_13\n",
      "https://link.springer.com/article/10.1007/s11042-022-12900-5\n",
      "  publisher                                          abstracts  \\\n",
      "0  springer  This chapter explores the opportunities for wo...   \n",
      "1  springer  Training supervised machine learning models li...   \n",
      "\n",
      "                                              titles  \\\n",
      "0  Privacy-preserving federated learning for scal...   \n",
      "1  Fintech, Blockchain, and Women in the Post-COV...   \n",
      "\n",
      "                                        affiliations  \n",
      "0  [[[Pan-Atlantic University, Lagos, Nigeria], [...  \n",
      "1  [[[Department of Computer Engineering, Khatam ...  \n"
     ]
    }
   ],
   "source": [
    "from bs4 import BeautifulSoup\n",
    "import requests\n",
    "import pandas\n",
    "titlesArray=[]\n",
    "keywordsArray=[]\n",
    "affilisArray=[]\n",
    "abstractsArray=[]\n",
    "publicationsArray=[]\n",
    "linksArray=[]\n",
    "publisherArray=[]\n",
    "\n",
    "tags = requests.get('https://scholar.google.com/scholar?start=40&q=blockchain+iran+springer+-BOOK&hl=en&as_sdt=0,5&as_ylo=2018&as_vis=1').text\n",
    "soup = BeautifulSoup(tags, 'html') \n",
    "\n",
    "\n",
    "                            \n",
    "linksOfTitles=soup.select('#gs_res_ccl_mid > div > div.gs_ri > h3>a')\n",
    "for link in linksOfTitles:\n",
    "  linksArray.append(link['href'])\n",
    "        \n",
    "data={ 'links':linksArray}\n",
    "d= pandas.DataFrame(data)\n",
    "d[d.links.str.contains('link.springer.com')]\n",
    "# print(d[d.links.str.contains('link.springer.com')])\n",
    "\n",
    "for ind in d[d.links.str.contains('link.springer.com')].index:\n",
    "    link2=d[d.links.str.contains('link.springer.com')]['links'][ind]\n",
    "    print(link2)\n",
    "    tags2 = requests.get(link2)\n",
    "    soup2 = BeautifulSoup(tags2.text, 'html')\n",
    "    \n",
    "    \n",
    "    publisherArray.append('springer')\n",
    "    \n",
    "\n",
    "    abstracts=soup2.select('#Abs1-content > p')\n",
    "    for abstract in abstracts:\n",
    "     abstractsArray.append(abstract.text)\n",
    "\n",
    "\n",
    "                        #main-content > main > article > header > div > h1\n",
    "    titles=soup2.select('#main-content > main > article > div.c-article-header > header > h1')\n",
    "\n",
    "   \n",
    "    for title in titles:\n",
    "     titlesArray.append(title.text)\n",
    "    \n",
    "\n",
    "    affiliations=soup2.select('#author-information-content > ol')\n",
    "    for affili in affiliations:\n",
    "     affilisArray.append(affili)\n",
    "        \n",
    "titlesArray.append('Fintech, Blockchain, and Women in the Post-COVID Africa')        \n",
    "data={ 'publisher':publisherArray,'abstracts':abstractsArray, 'titles':titlesArray,'affiliations':affilisArray, }\n",
    "\n",
    "\n",
    "df= pandas.DataFrame(data)\n",
    "print(df)\n",
    "df.to_excel(\"C:/Users/musta/Desktop/scholar_scrape/excel/springer4.xlsx\")\n"
   ]
  },
  {
   "cell_type": "code",
   "execution_count": null,
   "id": "c7abef9d",
   "metadata": {},
   "outputs": [],
   "source": []
  }
 ],
 "metadata": {
  "kernelspec": {
   "display_name": "Python 3",
   "language": "python",
   "name": "python3"
  },
  "language_info": {
   "codemirror_mode": {
    "name": "ipython",
    "version": 3
   },
   "file_extension": ".py",
   "mimetype": "text/x-python",
   "name": "python",
   "nbconvert_exporter": "python",
   "pygments_lexer": "ipython3",
   "version": "3.8.8"
  }
 },
 "nbformat": 4,
 "nbformat_minor": 5
}
