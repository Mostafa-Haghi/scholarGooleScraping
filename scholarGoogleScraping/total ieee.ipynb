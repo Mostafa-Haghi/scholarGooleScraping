{
 "cells": [
  {
   "cell_type": "code",
   "execution_count": 26,
   "id": "8587153f",
   "metadata": {},
   "outputs": [
    {
     "name": "stdout",
     "output_type": "stream",
     "text": [
      "Empty DataFrame\n",
      "Columns: [abstracts, titles, affiliations]\n",
      "Index: []\n"
     ]
    }
   ],
   "source": [
    "from bs4 import BeautifulSoup\n",
    "import requests\n",
    "import pandas\n",
    "abstractsArray=[]\n",
    "titlesArray=[]\n",
    "affiliationsArray=[]\n",
    "publisherArray=[]\n",
    "\n",
    "tags = requests.get('http://ieeexploreapi.ieee.org/api/v1/search/articles?apikey=f38qwyaxjwr4qqjp7a3y8z2z&format=xml&max_records=200&start_record=2000&sort_order=asc&sort_field=article_number&abstract=blockchain&content_type=Journals').text\n",
    "soup = BeautifulSoup(tags, 'html') \n",
    "\n",
    "# publisherArray.append('ieee')\n",
    "\n",
    "\n",
    "abstracts=soup.select('abstract')\n",
    "for abstract in abstracts:\n",
    " abstractsArray.append(abstract.text)\n",
    "\n",
    "titles=soup.select('title')\n",
    "for title in titles:\n",
    " titlesArray.append(title.text)\n",
    "\n",
    "authors=soup.select('authors')\n",
    "for author in authors:\n",
    " affiliationsArray.append(author)\n",
    "\n",
    "\n",
    "\n",
    "data={'abstracts':abstractsArray,'titles':titlesArray,'affiliations':affiliationsArray }\n",
    "df= pandas.DataFrame(data)\n",
    "print(df)\n",
    "df.to_excel(\"C:/Users/m.haghi.KUKNOS/Desktop/excel_ieee/2000.xlsx\")\n"
   ]
  },
  {
   "cell_type": "code",
   "execution_count": null,
   "id": "3a72e3f1",
   "metadata": {},
   "outputs": [],
   "source": []
  },
  {
   "cell_type": "code",
   "execution_count": null,
   "id": "a5832b0a",
   "metadata": {},
   "outputs": [],
   "source": []
  }
 ],
 "metadata": {
  "kernelspec": {
   "display_name": "Python 3 (ipykernel)",
   "language": "python",
   "name": "python3"
  },
  "language_info": {
   "codemirror_mode": {
    "name": "ipython",
    "version": 3
   },
   "file_extension": ".py",
   "mimetype": "text/x-python",
   "name": "python",
   "nbconvert_exporter": "python",
   "pygments_lexer": "ipython3",
   "version": "3.9.7"
  }
 },
 "nbformat": 4,
 "nbformat_minor": 5
}
