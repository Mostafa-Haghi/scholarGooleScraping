{
 "cells": [
  {
   "cell_type": "code",
   "execution_count": 8,
   "id": "0055a1b5",
   "metadata": {},
   "outputs": [],
   "source": [
    "# importing the required modules\n",
    "import glob\n",
    "import pandas as pd\n",
    "\n",
    "# specifying the path to csv files\n",
    "path = \"C:/Users/musta/Desktop/scholar_scrape/excel\"\n",
    "\n",
    "# csv files in the path\n",
    "file_list = glob.glob(path + \"/*.xlsx\")\n",
    "\n",
    "# list of excel files we want to merge.\n",
    "# pd.read_excel(file_path) reads the\n",
    "# excel data into pandas dataframe.\n",
    "excl_list = []\n",
    "\n",
    "for file in file_list:\n",
    " excl_list.append(pd.read_excel(file))\n",
    "\n",
    "# concatenate all DataFrames in the list\n",
    "# into a single DataFrame, returns new\n",
    "# DataFrame.\n",
    "excl_merged = pd.concat(excl_list, ignore_index=True)\n",
    "\n",
    "# exports the dataframe into excel file\n",
    "# with specified name.\n",
    "excl_merged.to_excel('C:/Users/musta/Desktop/scholar_scrape/excel/total_abstracts.xlsx', index=False)\n"
   ]
  },
  {
   "cell_type": "code",
   "execution_count": null,
   "id": "780a202e",
   "metadata": {},
   "outputs": [],
   "source": []
  }
 ],
 "metadata": {
  "kernelspec": {
   "display_name": "Python 3",
   "language": "python",
   "name": "python3"
  },
  "language_info": {
   "codemirror_mode": {
    "name": "ipython",
    "version": 3
   },
   "file_extension": ".py",
   "mimetype": "text/x-python",
   "name": "python",
   "nbconvert_exporter": "python",
   "pygments_lexer": "ipython3",
   "version": "3.8.8"
  }
 },
 "nbformat": 4,
 "nbformat_minor": 5
}
